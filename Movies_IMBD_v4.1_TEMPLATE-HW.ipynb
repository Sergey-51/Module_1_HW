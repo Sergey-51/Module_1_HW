{
 "cells": [
  {
   "cell_type": "code",
   "execution_count": 1,
   "metadata": {
    "_cell_guid": "b1076dfc-b9ad-4769-8c92-a6c4dae69d19",
    "_uuid": "8f2839f25d086af736a60e9eeb907d3b93b6e0e5",
    "colab": {},
    "colab_type": "code",
    "id": "U2D2gTdJVp90"
   },
   "outputs": [],
   "source": [
    "import numpy as np\n",
    "import pandas as pd\n",
    "import seaborn as sns\n",
    "import matplotlib.pyplot as plt\n",
    "from collections import Counter\n",
    "import itertools"
   ]
  },
  {
   "cell_type": "code",
   "execution_count": 2,
   "metadata": {
    "_cell_guid": "79c7e3d0-c299-4dcb-8224-4455121ee9b0",
    "_uuid": "d629ff2d2480ee46fbb7e2d37f6b5fab8052498a",
    "colab": {},
    "colab_type": "code",
    "id": "oyGfxL3eVp9-"
   },
   "outputs": [
    {
     "data": {
      "text/html": [
       "<div>\n",
       "<style scoped>\n",
       "    .dataframe tbody tr th:only-of-type {\n",
       "        vertical-align: middle;\n",
       "    }\n",
       "\n",
       "    .dataframe tbody tr th {\n",
       "        vertical-align: top;\n",
       "    }\n",
       "\n",
       "    .dataframe thead th {\n",
       "        text-align: right;\n",
       "    }\n",
       "</style>\n",
       "<table border=\"1\" class=\"dataframe\">\n",
       "  <thead>\n",
       "    <tr style=\"text-align: right;\">\n",
       "      <th></th>\n",
       "      <th>imdb_id</th>\n",
       "      <th>budget</th>\n",
       "      <th>revenue</th>\n",
       "      <th>original_title</th>\n",
       "      <th>cast</th>\n",
       "      <th>director</th>\n",
       "      <th>tagline</th>\n",
       "      <th>overview</th>\n",
       "      <th>runtime</th>\n",
       "      <th>genres</th>\n",
       "      <th>production_companies</th>\n",
       "      <th>release_date</th>\n",
       "      <th>vote_average</th>\n",
       "      <th>release_year</th>\n",
       "    </tr>\n",
       "  </thead>\n",
       "  <tbody>\n",
       "    <tr>\n",
       "      <th>1142</th>\n",
       "      <td>tt0317303</td>\n",
       "      <td>60000000</td>\n",
       "      <td>164433867</td>\n",
       "      <td>Daddy Day Care</td>\n",
       "      <td>Eddie Murphy|Jeff Garlin|Steve Zahn|Regina Kin...</td>\n",
       "      <td>Steve Carr</td>\n",
       "      <td>Who's your daddy?</td>\n",
       "      <td>Two men get laid off and have to become stay-a...</td>\n",
       "      <td>92</td>\n",
       "      <td>Comedy|Family</td>\n",
       "      <td>Columbia Pictures|Revolution Studios|Davis Ent...</td>\n",
       "      <td>5/3/2003</td>\n",
       "      <td>5.7</td>\n",
       "      <td>2003</td>\n",
       "    </tr>\n",
       "    <tr>\n",
       "      <th>595</th>\n",
       "      <td>tt0186589</td>\n",
       "      <td>11000000</td>\n",
       "      <td>13276953</td>\n",
       "      <td>Sugar &amp; Spice</td>\n",
       "      <td>Marla Sokoloff|Marley Shelton|Melissa George|M...</td>\n",
       "      <td>Francine McDougall</td>\n",
       "      <td>Why would the most popular girl in school wear...</td>\n",
       "      <td>When Jack (James Marsden) and Diane (Marley Sh...</td>\n",
       "      <td>81</td>\n",
       "      <td>Crime|Comedy</td>\n",
       "      <td>New Line Cinema</td>\n",
       "      <td>1/24/2001</td>\n",
       "      <td>5.4</td>\n",
       "      <td>2001</td>\n",
       "    </tr>\n",
       "    <tr>\n",
       "      <th>1037</th>\n",
       "      <td>tt1758830</td>\n",
       "      <td>35000000</td>\n",
       "      <td>88058786</td>\n",
       "      <td>This Is 40</td>\n",
       "      <td>Paul Rudd|Leslie Mann|Jason Segel|Maude Apatow...</td>\n",
       "      <td>Judd Apatow</td>\n",
       "      <td>The sort-of sequel to 'Knocked Up'</td>\n",
       "      <td>Pete and Debbie are both about to turn 40, the...</td>\n",
       "      <td>134</td>\n",
       "      <td>Comedy</td>\n",
       "      <td>Apatow Productions</td>\n",
       "      <td>12/20/2012</td>\n",
       "      <td>5.5</td>\n",
       "      <td>2012</td>\n",
       "    </tr>\n",
       "  </tbody>\n",
       "</table>\n",
       "</div>"
      ],
      "text/plain": [
       "        imdb_id    budget    revenue  original_title  \\\n",
       "1142  tt0317303  60000000  164433867  Daddy Day Care   \n",
       "595   tt0186589  11000000   13276953   Sugar & Spice   \n",
       "1037  tt1758830  35000000   88058786      This Is 40   \n",
       "\n",
       "                                                   cast            director  \\\n",
       "1142  Eddie Murphy|Jeff Garlin|Steve Zahn|Regina Kin...          Steve Carr   \n",
       "595   Marla Sokoloff|Marley Shelton|Melissa George|M...  Francine McDougall   \n",
       "1037  Paul Rudd|Leslie Mann|Jason Segel|Maude Apatow...         Judd Apatow   \n",
       "\n",
       "                                                tagline  \\\n",
       "1142                                  Who's your daddy?   \n",
       "595   Why would the most popular girl in school wear...   \n",
       "1037                 The sort-of sequel to 'Knocked Up'   \n",
       "\n",
       "                                               overview  runtime  \\\n",
       "1142  Two men get laid off and have to become stay-a...       92   \n",
       "595   When Jack (James Marsden) and Diane (Marley Sh...       81   \n",
       "1037  Pete and Debbie are both about to turn 40, the...      134   \n",
       "\n",
       "             genres                               production_companies  \\\n",
       "1142  Comedy|Family  Columbia Pictures|Revolution Studios|Davis Ent...   \n",
       "595    Crime|Comedy                                    New Line Cinema   \n",
       "1037         Comedy                                 Apatow Productions   \n",
       "\n",
       "     release_date  vote_average  release_year  \n",
       "1142     5/3/2003           5.7          2003  \n",
       "595     1/24/2001           5.4          2001  \n",
       "1037   12/20/2012           5.5          2012  "
      ]
     },
     "execution_count": 2,
     "metadata": {},
     "output_type": "execute_result"
    }
   ],
   "source": [
    "# почему то файл для скачивания XLS...а везде в ответах фигурируют CSV\n",
    "# необходимо выбрать подходящую строчку для чтения файла\n",
    "\n",
    "data = pd.read_csv('movie_bd_v5.xls')\n",
    "# data = pd.read_csv('movie_bd_v5.csv')\n",
    "\n",
    "# посмотрим что в файле прочитали (3 случайные строчки)\n",
    "data.sample(3)"
   ]
  },
  {
   "cell_type": "code",
   "execution_count": 3,
   "metadata": {
    "colab": {},
    "colab_type": "code",
    "id": "CoYUnagMVp-C",
    "scrolled": true
   },
   "outputs": [
    {
     "data": {
      "text/html": [
       "<div>\n",
       "<style scoped>\n",
       "    .dataframe tbody tr th:only-of-type {\n",
       "        vertical-align: middle;\n",
       "    }\n",
       "\n",
       "    .dataframe tbody tr th {\n",
       "        vertical-align: top;\n",
       "    }\n",
       "\n",
       "    .dataframe thead th {\n",
       "        text-align: right;\n",
       "    }\n",
       "</style>\n",
       "<table border=\"1\" class=\"dataframe\">\n",
       "  <thead>\n",
       "    <tr style=\"text-align: right;\">\n",
       "      <th></th>\n",
       "      <th>budget</th>\n",
       "      <th>revenue</th>\n",
       "      <th>runtime</th>\n",
       "      <th>vote_average</th>\n",
       "      <th>release_year</th>\n",
       "    </tr>\n",
       "  </thead>\n",
       "  <tbody>\n",
       "    <tr>\n",
       "      <th>count</th>\n",
       "      <td>1.889000e+03</td>\n",
       "      <td>1.889000e+03</td>\n",
       "      <td>1889.000000</td>\n",
       "      <td>1889.000000</td>\n",
       "      <td>1889.000000</td>\n",
       "    </tr>\n",
       "    <tr>\n",
       "      <th>mean</th>\n",
       "      <td>5.431083e+07</td>\n",
       "      <td>1.553653e+08</td>\n",
       "      <td>109.658549</td>\n",
       "      <td>6.140762</td>\n",
       "      <td>2007.860773</td>\n",
       "    </tr>\n",
       "    <tr>\n",
       "      <th>std</th>\n",
       "      <td>4.858721e+07</td>\n",
       "      <td>2.146698e+08</td>\n",
       "      <td>18.017041</td>\n",
       "      <td>0.764763</td>\n",
       "      <td>4.468841</td>\n",
       "    </tr>\n",
       "    <tr>\n",
       "      <th>min</th>\n",
       "      <td>5.000000e+06</td>\n",
       "      <td>2.033165e+06</td>\n",
       "      <td>63.000000</td>\n",
       "      <td>3.300000</td>\n",
       "      <td>2000.000000</td>\n",
       "    </tr>\n",
       "    <tr>\n",
       "      <th>25%</th>\n",
       "      <td>2.000000e+07</td>\n",
       "      <td>3.456058e+07</td>\n",
       "      <td>97.000000</td>\n",
       "      <td>5.600000</td>\n",
       "      <td>2004.000000</td>\n",
       "    </tr>\n",
       "    <tr>\n",
       "      <th>50%</th>\n",
       "      <td>3.800000e+07</td>\n",
       "      <td>8.361541e+07</td>\n",
       "      <td>107.000000</td>\n",
       "      <td>6.100000</td>\n",
       "      <td>2008.000000</td>\n",
       "    </tr>\n",
       "    <tr>\n",
       "      <th>75%</th>\n",
       "      <td>7.200000e+07</td>\n",
       "      <td>1.782626e+08</td>\n",
       "      <td>120.000000</td>\n",
       "      <td>6.600000</td>\n",
       "      <td>2012.000000</td>\n",
       "    </tr>\n",
       "    <tr>\n",
       "      <th>max</th>\n",
       "      <td>3.800000e+08</td>\n",
       "      <td>2.781506e+09</td>\n",
       "      <td>214.000000</td>\n",
       "      <td>8.100000</td>\n",
       "      <td>2015.000000</td>\n",
       "    </tr>\n",
       "  </tbody>\n",
       "</table>\n",
       "</div>"
      ],
      "text/plain": [
       "             budget       revenue      runtime  vote_average  release_year\n",
       "count  1.889000e+03  1.889000e+03  1889.000000   1889.000000   1889.000000\n",
       "mean   5.431083e+07  1.553653e+08   109.658549      6.140762   2007.860773\n",
       "std    4.858721e+07  2.146698e+08    18.017041      0.764763      4.468841\n",
       "min    5.000000e+06  2.033165e+06    63.000000      3.300000   2000.000000\n",
       "25%    2.000000e+07  3.456058e+07    97.000000      5.600000   2004.000000\n",
       "50%    3.800000e+07  8.361541e+07   107.000000      6.100000   2008.000000\n",
       "75%    7.200000e+07  1.782626e+08   120.000000      6.600000   2012.000000\n",
       "max    3.800000e+08  2.781506e+09   214.000000      8.100000   2015.000000"
      ]
     },
     "execution_count": 3,
     "metadata": {},
     "output_type": "execute_result"
    }
   ],
   "source": [
    "# посмотрим описание по нашим данным\n",
    "data.describe()"
   ]
  },
  {
   "cell_type": "code",
   "execution_count": 4,
   "metadata": {},
   "outputs": [
    {
     "name": "stdout",
     "output_type": "stream",
     "text": [
      "<class 'pandas.core.frame.DataFrame'>\n",
      "RangeIndex: 1889 entries, 0 to 1888\n",
      "Data columns (total 14 columns):\n",
      " #   Column                Non-Null Count  Dtype  \n",
      "---  ------                --------------  -----  \n",
      " 0   imdb_id               1889 non-null   object \n",
      " 1   budget                1889 non-null   int64  \n",
      " 2   revenue               1889 non-null   int64  \n",
      " 3   original_title        1889 non-null   object \n",
      " 4   cast                  1889 non-null   object \n",
      " 5   director              1889 non-null   object \n",
      " 6   tagline               1889 non-null   object \n",
      " 7   overview              1889 non-null   object \n",
      " 8   runtime               1889 non-null   int64  \n",
      " 9   genres                1889 non-null   object \n",
      " 10  production_companies  1889 non-null   object \n",
      " 11  release_date          1889 non-null   object \n",
      " 12  vote_average          1889 non-null   float64\n",
      " 13  release_year          1889 non-null   int64  \n",
      "dtypes: float64(1), int64(4), object(9)\n",
      "memory usage: 206.7+ KB\n"
     ]
    }
   ],
   "source": [
    "# посмотрим на стобцы и типы данных в таблице\n",
    "data.info()"
   ]
  },
  {
   "cell_type": "markdown",
   "metadata": {
    "colab_type": "text",
    "id": "DTIt7ezGVp-G"
   },
   "source": [
    "# Предобработка"
   ]
  },
  {
   "cell_type": "code",
   "execution_count": 5,
   "metadata": {
    "colab": {},
    "colab_type": "code",
    "id": "jNb40DwKVp-H"
   },
   "outputs": [],
   "source": [
    "answers = {} # создадим словарь для ответов\n",
    "\n",
    "# тут другие ваши предобработки колонок например:\n",
    "\n",
    "#the time given in the dataset is in string format.\n",
    "#So we need to change this in datetime format\n",
    "# ..."
   ]
  },
  {
   "cell_type": "code",
   "execution_count": 6,
   "metadata": {},
   "outputs": [],
   "source": [
    "# переформатируем столбец release_date в формат даты\n",
    "data['release_date']=pd.to_datetime(data['release_date'],format=\"%m/%d/%Y\")\n",
    "\n",
    "# добавим новый столбец содержащий original_title и imdb_id в скобках \n",
    "# этот столбец я добавил, тк в ответах почему то присутствует именно в таком виде.\n",
    "# и чтобы было проще сравнивать полученный мной ответ с вариантами я сделал столбец.\n",
    "data['title_with_id']=data['original_title']+' ('+data['imdb_id']+')'\n",
    "\n",
    "# добавим новый столбец с расчетом по прибыли/убытку по фильму\n",
    "data['profit'] = data['revenue'] - data['budget']"
   ]
  },
  {
   "cell_type": "code",
   "execution_count": 7,
   "metadata": {},
   "outputs": [],
   "source": [
    "# функция наименования месяца релиза фильма\n",
    "# наверное можно и без дополнительного столбца, но если нам постоянно приходится использовать/рассчитывать, \n",
    "# то создание дополнительных столбцов оправдано - уменьшается последующий код \n",
    "def month_name(x):\n",
    "    x=x.month\n",
    "    if x==1:\n",
    "        return 'Январь'\n",
    "    if x==2:\n",
    "        return 'Февраль'\n",
    "    if x==3:\n",
    "        return 'Март'\n",
    "    if x==4:\n",
    "        return 'Апрель'\n",
    "    if x==5:\n",
    "        return 'Май'\n",
    "    if x==6:\n",
    "        return 'Июнь'\n",
    "    if x==7:\n",
    "        return 'Июль'\n",
    "    if x==8:\n",
    "        return 'Август'\n",
    "    if x==9:\n",
    "        return 'Сентябрь'    \n",
    "    if x==10:\n",
    "        return 'Октябрь'    \n",
    "    if x==11:\n",
    "        return 'Ноябрь'\n",
    "    if x==12:\n",
    "        return 'Декабрь'\n",
    "    else:\n",
    "        return 'error'\n",
    "    \n",
    "# создаем новый столбец с названиями месяцев релиза фильма в исходных данных \n",
    "data['release_month'] = data.release_date.apply(month_name)\n",
    "\n",
    "# это для проверки добавления нового столбца\n",
    "#display(data.head(3))"
   ]
  },
  {
   "cell_type": "code",
   "execution_count": 8,
   "metadata": {},
   "outputs": [],
   "source": [
    "# функция наименования сезона релиза фильма\n",
    "# аналогично предыдущему, считаю правильнее добавить в таблицу столбец.\n",
    "def season_name(x):\n",
    "    x=x.month\n",
    "    if x==1 or x==2 or x==12:\n",
    "        return 'Зима'\n",
    "    if 3<=x<=5:\n",
    "        return 'Весна'\n",
    "    if 6<=x<=8:\n",
    "        return 'Лето'\n",
    "    if 9<=x<=11:\n",
    "        return 'Осень'\n",
    "    else:\n",
    "        return 'error'\n",
    "    \n",
    "# создаем новый столбец с названиями сезонов релиза фильма в исходных данных \n",
    "data['release_season'] = data.release_date.apply(season_name)\n",
    "\n",
    "# это для проверки добавления нового столбца\n",
    "#display(data.head(3))"
   ]
  },
  {
   "cell_type": "code",
   "execution_count": 9,
   "metadata": {},
   "outputs": [],
   "source": [
    "# функция по подсчету количества вхождений жанров\n",
    "# испольуется в вопросе 11\n",
    "def spl(x):\n",
    "    # делаем цикл по проверки вхождения каждого из жанров\n",
    "    for genr in res:\n",
    "        # смотрим, а равен ли входной жанр входному\n",
    "        if genr in x:\n",
    "            # если равен, то прибавляем единичку к сохраненному значению\n",
    "            res[genr]+=1\n"
   ]
  },
  {
   "cell_type": "code",
   "execution_count": 10,
   "metadata": {},
   "outputs": [],
   "source": [
    "# функция расчета длины названия фильма\n",
    "# используется только 1 раз в вопросе 24.\n",
    "\n",
    "def original_title_len(x):\n",
    "    return len(x)\n",
    "\n",
    "# создаем новый столбец с названиями месяцев релиза фильма в исходных данных \n",
    "data['movies_name_len'] = data.original_title.apply(original_title_len)\n",
    "\n",
    "# проверяем результат добавления нового столбца\n",
    "#display(data.head(3))"
   ]
  },
  {
   "cell_type": "code",
   "execution_count": 51,
   "metadata": {},
   "outputs": [],
   "source": [
    "# функция составления комбинаций пар из актеров снимавшихся в одном фильме\n",
    "# используется в впросе 27\n",
    "\n",
    "def comb(x):\n",
    "    # получаем на входе список актеров\n",
    "    # обнуляем промежуточный список tred\n",
    "    #c=0\n",
    "    tred=[]\n",
    "    for rex in itertools.combinations(x, 2):\n",
    "        # проверяем на пару на уникальность и записываем каждую пару актеров в промежуточный список\n",
    "        #if rex in uniq_dbl_list:\n",
    "            tred.append(rex)\n",
    "        #else:\n",
    "        #    c+=1\n",
    "            #print('не записываем ',rex)\n",
    "    # возвращаем временный список на выход функции\n",
    "    #print(c)\n",
    "    return tred"
   ]
  },
  {
   "cell_type": "markdown",
   "metadata": {},
   "source": [
    "## функция comb_v2(x) составления комбинаций пар из актеров снимавшихся в одном фильме используется в вопросе 27.   \n",
    "## от её использования отказался, тк выдавал ошибку  \n",
    "## вместо неё использую comb_v3(x)  \n",
    "\n",
    "Сама ошибка\n",
    "---------------------------------------------------------------------------\n",
    "TypeError                                 Traceback (most recent call last)\n",
    "pandas\\_libs\\hashtable_class_helper.pxi in pandas._libs.hashtable.PyObjectHashTable.map_locations()\n",
    "\n",
    "TypeError: unhashable type: 'list'\n",
    "\n",
    "Exception ignored in: 'pandas._libs.index.IndexEngine._call_map_locations'\n",
    "Traceback (most recent call last):\n",
    "  File \"pandas\\_libs\\hashtable_class_helper.pxi\", line 1709, in pandas._libs.hashtable.PyObjectHashTable.map_locations\n",
    "TypeError: unhashable type: 'list'"
   ]
  },
  {
   "cell_type": "code",
   "execution_count": 55,
   "metadata": {},
   "outputs": [],
   "source": [
    "# функцию не использую, оставил для истории.\n",
    "\n",
    "def comb_v2(x):\n",
    "    # получаем на входе список актеров\n",
    "    # обнуляем промежуточный список tred\n",
    "\n",
    "    tred=[]\n",
    "    for rex in itertools.combinations(x, 2):\n",
    "        # проверяем на пару на уникальность и записываем каждую пару актеров в промежуточный список\n",
    "            rex=sorted(rex, reverse=False)\n",
    "            if rex not in tred:\n",
    "                tred.append(rex)\n",
    "\n",
    "            #print('не записываем ',rex)\n",
    "\n",
    "    return tred"
   ]
  },
  {
   "cell_type": "code",
   "execution_count": 56,
   "metadata": {},
   "outputs": [],
   "source": [
    "# функция составления комбинаций пар из актеров снимавшихся в одном фильме\n",
    "# используется в впросе 27\n",
    "\n",
    "def comb_v3(x):\n",
    "    # получаем на входе список актеров, сортируем его по возрастанию\n",
    "    # обнуляем промежуточный список tred\n",
    "    x=sorted(x, reverse=False)\n",
    "    tred=[]\n",
    "    \n",
    "    # проходим циклом по комбинациям и записываем в список\n",
    "    for rex in itertools.combinations(x, 2):\n",
    "        tred.append(rex)\n",
    "    return tred"
   ]
  },
  {
   "cell_type": "markdown",
   "metadata": {
    "colab_type": "text",
    "id": "YxZaH-nPVp-L"
   },
   "source": [
    "# 1. У какого фильма из списка самый большой бюджет?"
   ]
  },
  {
   "cell_type": "markdown",
   "metadata": {
    "colab_type": "text",
    "id": "Nd-G5gX6Vp-M"
   },
   "source": [
    "Использовать варианты ответов в коде решения запрещено.    \n",
    "Вы думаете и в жизни у вас будут варианты ответов?)"
   ]
  },
  {
   "cell_type": "code",
   "execution_count": 13,
   "metadata": {
    "colab": {},
    "colab_type": "code",
    "id": "uVnXAY5RVp-O"
   },
   "outputs": [],
   "source": [
    "# в словарь вставляем номер вопроса и ваш ответ на него\n",
    "# Пример: \n",
    "# answers['1'] = '2. Spider-Man 3 (tt0413300)'\n",
    "# запишите свой вариант ответа\n",
    "# answers['1'] = '...'\n",
    "# если ответили верно, можете добавить комментарий со значком \"+\""
   ]
  },
  {
   "cell_type": "code",
   "execution_count": 14,
   "metadata": {
    "colab": {},
    "colab_type": "code",
    "id": "dZwb3m28Vp-S"
   },
   "outputs": [
    {
     "name": "stdout",
     "output_type": "stream",
     "text": [
      " Pirates of the Caribbean: On Stranger Tides (t...\n"
     ]
    }
   ],
   "source": [
    "# рассчитываем максимальный бюджет\n",
    "max_budget=data['budget'].max()\n",
    "\n",
    "# фильтруем исходные данные по максимальному бюджету\n",
    "answer=data[(data.budget==max_budget)].title_with_id\n",
    "\n",
    "# выводим полученный результат на экран\n",
    "print(answer.to_string(index=False))\n",
    "\n",
    "# записываем наш ответ в словарь ответов\n",
    "answers[1] = answer.to_string(index=False)"
   ]
  },
  {
   "cell_type": "markdown",
   "metadata": {
    "colab_type": "text",
    "id": "K7L3nbRXVp-X"
   },
   "source": [
    "ВАРИАНТ 2"
   ]
  },
  {
   "cell_type": "code",
   "execution_count": 15,
   "metadata": {
    "colab": {},
    "colab_type": "code",
    "id": "OGaoQI7rVp-X"
   },
   "outputs": [
    {
     "name": "stdout",
     "output_type": "stream",
     "text": [
      " Pirates of the Caribbean: On Stranger Tides (t...\n"
     ]
    }
   ],
   "source": [
    "# можно написать чуть короче, буз промежуточного расчета максимального бюджета\n",
    "# первый вариант оправдан если бы мы и дальше использовали эту цифру.\n",
    "\n",
    "# фильтруем исходные данные по максимальному бюджету\n",
    "answer=data[(data.budget==data['budget'].max())].title_with_id\n",
    "\n",
    "# выводим полученный результат на экран\n",
    "print(answer.to_string(index=False))\n",
    "\n",
    "# записываем наш ответ в словарь ответов\n",
    "answers[1] = answer.to_string(index=False)"
   ]
  },
  {
   "cell_type": "markdown",
   "metadata": {
    "colab_type": "text",
    "id": "FNRbbI3vVp-c"
   },
   "source": [
    "# 2. Какой из фильмов самый длительный (в минутах)?"
   ]
  },
  {
   "cell_type": "code",
   "execution_count": 16,
   "metadata": {
    "colab": {},
    "colab_type": "code",
    "id": "vHAoEXNTVp-d"
   },
   "outputs": [],
   "source": [
    "# думаю логику работы с этим словарем вы уже поняли, \n",
    "# по этому не буду больше его дублировать\n",
    "# answers['2'] = '...'"
   ]
  },
  {
   "cell_type": "code",
   "execution_count": 17,
   "metadata": {
    "colab": {},
    "colab_type": "code",
    "id": "ot-VX2XrVp-g"
   },
   "outputs": [
    {
     "name": "stdout",
     "output_type": "stream",
     "text": [
      " Gods and Generals (tt0279111)\n"
     ]
    }
   ],
   "source": [
    "# рассчитываем максимальное значение длительности\n",
    "max_runtime=data['runtime'].max()\n",
    "\n",
    "# фильтруем исходные данные по максимальной длительности\n",
    "answer=data[(data.runtime==max_runtime)].title_with_id\n",
    "\n",
    "# выводим полученный результат на экран\n",
    "print(answer.to_string(index=False))\n",
    "\n",
    "# записываем наш ответ в словарь ответов\n",
    "answers[2] = answer.to_string(index=False)"
   ]
  },
  {
   "cell_type": "code",
   "execution_count": 18,
   "metadata": {},
   "outputs": [
    {
     "name": "stdout",
     "output_type": "stream",
     "text": [
      " Gods and Generals (tt0279111)\n"
     ]
    }
   ],
   "source": [
    "# аналогично первому вопросу можно рассчитать и без промежуточной переменной\n",
    "\n",
    "# фильтруем исходные данные по максимальной длительности\n",
    "answer=data[(data.runtime==data['runtime'].max())].title_with_id\n",
    "\n",
    "# выводим полученный результат на экран\n",
    "print(answer.to_string(index=False))\n",
    "\n",
    "# записываем наш ответ в словарь ответов\n",
    "answers[2] = answer.to_string(index=False)"
   ]
  },
  {
   "cell_type": "markdown",
   "metadata": {
    "colab_type": "text",
    "id": "bapLlpW8Vp-k"
   },
   "source": [
    "# 3. Какой из фильмов самый короткий (в минутах)?\n",
    "\n",
    "\n",
    "\n"
   ]
  },
  {
   "cell_type": "code",
   "execution_count": 19,
   "metadata": {
    "colab": {},
    "colab_type": "code",
    "id": "YBxaSHuAVp-l"
   },
   "outputs": [
    {
     "name": "stdout",
     "output_type": "stream",
     "text": [
      " Winnie the Pooh (tt1449283)\n"
     ]
    }
   ],
   "source": [
    "# рассчитываем минимальное значение длительности фильма\n",
    "min_runtime=data['runtime'].min()\n",
    "\n",
    "# фильтруем исходные данные по минимальной длительности\n",
    "answer=data[(data.runtime==min_runtime)].title_with_id\n",
    "\n",
    "# выводим полученный результат на экран\n",
    "print(answer.to_string(index=False))\n",
    "\n",
    "# записываем наш ответ в словарь ответов\n",
    "answers[3] = answer.to_string(index=False)"
   ]
  },
  {
   "cell_type": "code",
   "execution_count": 20,
   "metadata": {
    "colab": {},
    "colab_type": "code",
    "id": "YBxaSHuAVp-l"
   },
   "outputs": [
    {
     "name": "stdout",
     "output_type": "stream",
     "text": [
      " Winnie the Pooh (tt1449283)\n"
     ]
    }
   ],
   "source": [
    "# ВАРИАНТ 2\n",
    "# фильтруем исходные данные по минимальной длительности\n",
    "answer=data[(data.runtime==data['runtime'].min())].title_with_id\n",
    "\n",
    "# выводим полученный результат на экран\n",
    "print(answer.to_string(index=False))\n",
    "\n",
    "# записываем наш ответ в словарь ответов\n",
    "answers[3] = answer.to_string(index=False)"
   ]
  },
  {
   "cell_type": "markdown",
   "metadata": {
    "colab_type": "text",
    "id": "TfQbxbfNVp-p"
   },
   "source": [
    "# 4. Какова средняя длительность фильмов?\n"
   ]
  },
  {
   "cell_type": "code",
   "execution_count": 21,
   "metadata": {
    "colab": {},
    "colab_type": "code",
    "id": "5K6dKZYVVp-q"
   },
   "outputs": [
    {
     "data": {
      "text/plain": [
       "110.0"
      ]
     },
     "metadata": {},
     "output_type": "display_data"
    }
   ],
   "source": [
    "# рассчитываем среднюю длительность фильмов\n",
    "mean_runtime=round(data['runtime'].mean(),0)\n",
    "\n",
    "# выводим полученный результат на экран\n",
    "display(mean_runtime)\n",
    "\n",
    "# записываем наш ответ в словарь ответов\n",
    "answers[4] = mean_runtime"
   ]
  },
  {
   "cell_type": "markdown",
   "metadata": {
    "colab_type": "text",
    "id": "r5TvbnT_Vp-u"
   },
   "source": [
    "# 5. Каково медианное значение длительности фильмов? "
   ]
  },
  {
   "cell_type": "code",
   "execution_count": 22,
   "metadata": {
    "colab": {},
    "colab_type": "code",
    "id": "iBROplKnVp-v"
   },
   "outputs": [
    {
     "data": {
      "text/plain": [
       "107.0"
      ]
     },
     "metadata": {},
     "output_type": "display_data"
    }
   ],
   "source": [
    "# рассчитываем медианное значение длительности фильмов\n",
    "median_runtime=round(data['runtime'].median(),0)\n",
    "\n",
    "# выводим полученный результат на экран\n",
    "display(median_runtime)\n",
    "\n",
    "# записываем наш ответ в словарь ответов\n",
    "answers[5] = median_runtime"
   ]
  },
  {
   "cell_type": "markdown",
   "metadata": {
    "colab_type": "text",
    "id": "39P-deDSVp-y"
   },
   "source": [
    "# 6. Какой самый прибыльный фильм?\n",
    "#### Внимание! Здесь и далее под «прибылью» или «убытками» понимается разность между сборами и бюджетом фильма. (прибыль = сборы - бюджет) в нашем датасете это будет (profit = revenue - budget) "
   ]
  },
  {
   "cell_type": "code",
   "execution_count": 23,
   "metadata": {
    "colab": {},
    "colab_type": "code",
    "id": "UYZh4T9WVp-y"
   },
   "outputs": [
    {
     "name": "stdout",
     "output_type": "stream",
     "text": [
      " Avatar (tt0499549)\n"
     ]
    }
   ],
   "source": [
    "# получение столбца profit вынесено в Предобработку\n",
    "\n",
    "# рассчитываем максимальную прибыль по всем фильмам\n",
    "max_profit=data['profit'].max()\n",
    "\n",
    "# фильтруем исходные данные по максимальной прибыли\n",
    "answer=data[(data.profit==max_profit)].title_with_id\n",
    "\n",
    "# выводим полученный результат на экран\n",
    "print(answer.to_string(index=False))\n",
    "\n",
    "# записываем наш ответ в словарь ответов\n",
    "answers[6] = answer.to_string(index=False)"
   ]
  },
  {
   "cell_type": "markdown",
   "metadata": {
    "colab_type": "text",
    "id": "M99JmIX4Vp-2"
   },
   "source": [
    "# 7. Какой фильм самый убыточный? "
   ]
  },
  {
   "cell_type": "code",
   "execution_count": 24,
   "metadata": {
    "colab": {},
    "colab_type": "code",
    "id": "w-D2m4XPVp-3"
   },
   "outputs": [
    {
     "name": "stdout",
     "output_type": "stream",
     "text": [
      " The Lone Ranger (tt1210819)\n"
     ]
    }
   ],
   "source": [
    "# рассчитываем минимальную прибыль (минимальная прибыль=максимальному убытку) по всем фильмам\n",
    "min_profit=data['profit'].min()\n",
    "\n",
    "# фильтруем исходные данные по минимальной прибыли\n",
    "answer=data[(data.profit==min_profit)].title_with_id\n",
    "\n",
    "# выводим полученный результат на экран\n",
    "print(answer.to_string(index=False))\n",
    "\n",
    "# записываем наш ответ в словарь ответов\n",
    "answers[7] = answer.to_string(index=False)"
   ]
  },
  {
   "cell_type": "markdown",
   "metadata": {
    "colab_type": "text",
    "id": "wEOM5ERVVp-6"
   },
   "source": [
    "# 8. У скольких фильмов из датасета объем сборов оказался выше бюджета?"
   ]
  },
  {
   "cell_type": "code",
   "execution_count": 25,
   "metadata": {
    "colab": {},
    "colab_type": "code",
    "id": "y00_7HD6Vp-7"
   },
   "outputs": [
    {
     "data": {
      "text/plain": [
       "1478"
      ]
     },
     "metadata": {},
     "output_type": "display_data"
    }
   ],
   "source": [
    "# применяем фильтр к данным по прибыльности и смотрим длину полученного среза\n",
    "answer=len(data[data.profit>0])\n",
    "\n",
    "# выводим полученный результат на экран\n",
    "display(answer)\n",
    "\n",
    "# записываем наш ответ в словарь ответов\n",
    "answers[8] = answer"
   ]
  },
  {
   "cell_type": "markdown",
   "metadata": {
    "colab_type": "text",
    "id": "xhpspA9KVp_A"
   },
   "source": [
    "# 9. Какой фильм оказался самым кассовым в 2008 году?"
   ]
  },
  {
   "cell_type": "code",
   "execution_count": 26,
   "metadata": {
    "colab": {},
    "colab_type": "code",
    "id": "MoUyQr9RVp_B"
   },
   "outputs": [
    {
     "name": "stdout",
     "output_type": "stream",
     "text": [
      " The Dark Knight (tt0468569)\n"
     ]
    }
   ],
   "source": [
    "# применяем фильтр к данным, сортируем по убыванию, берём только первую строку \n",
    "# и ограничиваем выборку только названием фильма\n",
    "answer=data[data.release_year==2008].sort_values('profit',ascending=False).head(1).title_with_id\n",
    "\n",
    "# выводим полученный результат на экран\n",
    "print(answer.to_string(index=False))\n",
    "\n",
    "# записываем наш ответ в словарь ответов\n",
    "answers[9] = answer.to_string(index=False)"
   ]
  },
  {
   "cell_type": "markdown",
   "metadata": {
    "colab_type": "text",
    "id": "Zi4hDKidVp_F"
   },
   "source": [
    "# 10. Самый убыточный фильм за период с 2012 по 2014 г. (включительно)?\n"
   ]
  },
  {
   "cell_type": "code",
   "execution_count": 27,
   "metadata": {
    "colab": {},
    "colab_type": "code",
    "id": "XqyRmufJVp_F"
   },
   "outputs": [
    {
     "name": "stdout",
     "output_type": "stream",
     "text": [
      " The Lone Ranger (tt1210819)\n"
     ]
    }
   ],
   "source": [
    "# применяем фильтр по годам, сортируем по прибыли по возрастанию, \n",
    "# берем первую строку и ограничиваем выборку только названием фильма \n",
    "answer=data.query('2012<release_year<2015').sort_values('profit',ascending=True).head(1).title_with_id\n",
    "\n",
    "# выводим полученный результат на экран\n",
    "print(answer.to_string(index=False))\n",
    "\n",
    "# записываем наш ответ в словарь ответов\n",
    "answers[10] = answer.to_string(index=False)"
   ]
  },
  {
   "cell_type": "markdown",
   "metadata": {
    "colab_type": "text",
    "id": "EA7Sa9dkVp_I"
   },
   "source": [
    "# 11. Какого жанра фильмов больше всего?"
   ]
  },
  {
   "cell_type": "code",
   "execution_count": 28,
   "metadata": {
    "colab": {},
    "colab_type": "code",
    "id": "zsJAwJ8QVp_J"
   },
   "outputs": [
    {
     "data": {
      "text/plain": [
       "Drama              283\n",
       "Comedy             252\n",
       "Action             225\n",
       "Thriller           206\n",
       "Adventure          164\n",
       "Romance            122\n",
       "Science Fiction    109\n",
       "Crime              107\n",
       "Family              94\n",
       "Fantasy             84\n",
       "Mystery             66\n",
       "Horror              55\n",
       "Animation           49\n",
       "War                 25\n",
       "Music               22\n",
       "History             19\n",
       "Western              5\n",
       "Documentary          1\n",
       "Foreign              1\n",
       "Name: genres, dtype: int64"
      ]
     },
     "metadata": {},
     "output_type": "display_data"
    },
    {
     "data": {
      "text/plain": [
       "'Drama'"
      ]
     },
     "metadata": {},
     "output_type": "display_data"
    }
   ],
   "source": [
    "# скопируем исходные данные для работы\n",
    "data2=data.copy()\n",
    "\n",
    "# разделяем столбец Жанры по разделителю '|' и разбиваем на отдельные строчки\n",
    "data2['genres'] = data2.genres.str.split('|').explode('genres')\n",
    "\n",
    "# считаем количество строчек по жанрам, сортируем по убыванию и берем первую строчку\n",
    "answer=data2['genres'].value_counts().sort_values(ascending=False).index[0]\n",
    "\n",
    "# выведем результирующую табличку по жанрам (для сравнения с вариантом решения 2)\n",
    "display(data2['genres'].value_counts().sort_values(ascending=False))\n",
    "\n",
    "# выводим полученный результат на экран\n",
    "display(answer)\n",
    "\n",
    "# записываем наш ответ в словарь ответов\n",
    "answers[11] = answer"
   ]
  },
  {
   "cell_type": "markdown",
   "metadata": {
    "colab_type": "text",
    "id": "Ax6g2C8SVp_M"
   },
   "source": [
    "ВАРИАНТ 2"
   ]
  },
  {
   "cell_type": "code",
   "execution_count": 29,
   "metadata": {
    "colab": {},
    "colab_type": "code",
    "id": "otO3SbrSVp_N"
   },
   "outputs": [
    {
     "data": {
      "text/plain": [
       "{'Drama': 283,\n",
       " 'Comedy': 252,\n",
       " 'Action': 225,\n",
       " 'Thriller': 206,\n",
       " 'Adventure': 164,\n",
       " 'Romance': 122,\n",
       " 'Science Fiction': 109,\n",
       " 'Crime': 107,\n",
       " 'Family': 94,\n",
       " 'Fantasy': 84,\n",
       " 'Mystery': 66,\n",
       " 'Horror': 55,\n",
       " 'Animation': 49,\n",
       " 'War': 25,\n",
       " 'Music': 22,\n",
       " 'History': 19,\n",
       " 'Western': 5,\n",
       " 'Documentary': 1,\n",
       " 'Foreign': 1}"
      ]
     },
     "metadata": {},
     "output_type": "display_data"
    },
    {
     "data": {
      "text/plain": [
       "'Drama'"
      ]
     },
     "metadata": {},
     "output_type": "display_data"
    }
   ],
   "source": [
    "# копируем исходные данные\n",
    "data2=data.copy()\n",
    "\n",
    "# разделяем жанры по разделителю '|' и разбиваем на отдельные строчки\n",
    "data2['genres'] = data2.genres.str.split('|').explode('genres')\n",
    "\n",
    "\n",
    "# берем только столбец с жанрами\n",
    "df=data2['genres']\n",
    "\n",
    "# и создаем новый справочник с только уникальными названиями жанров, присваиваем значение 0 каждому из них\n",
    "res={}\n",
    "\n",
    "# проходим циклом по всем жанрам и заполняем справочник\n",
    "for x in df:\n",
    "    res[x]=0\n",
    "\n",
    "# применяем функцию по подсчету количества вхождений\n",
    "df=df.apply(spl)\n",
    "\n",
    "# сортируем список (из нашего справочника) по убыванию значений\n",
    "sorted_items=sorted(res.items(),key=lambda item: item[1], reverse=True)\n",
    "\n",
    "# и возвращаем сортированный список в справочник\n",
    "sorted_res={k: v for k, v in sorted_items}\n",
    "\n",
    "# выводим финальный результат на экран\n",
    "display(sorted_res)\n",
    "\n",
    "# ну и правильный ответ на поставленный вопрос\n",
    "display(next(iter(sorted_res)))"
   ]
  },
  {
   "cell_type": "markdown",
   "metadata": {},
   "source": [
    "Вариант 3"
   ]
  },
  {
   "cell_type": "code",
   "execution_count": 30,
   "metadata": {},
   "outputs": [
    {
     "data": {
      "text/plain": [
       "([('Drama', 283),\n",
       "  ('Comedy', 252),\n",
       "  ('Action', 225),\n",
       "  ('Thriller', 206),\n",
       "  ('Adventure', 164),\n",
       "  ('Romance', 122),\n",
       "  ('Science Fiction', 109),\n",
       "  ('Crime', 107),\n",
       "  ('Family', 94),\n",
       "  ('Fantasy', 84),\n",
       "  ('Mystery', 66),\n",
       "  ('Horror', 55),\n",
       "  ('Animation', 49),\n",
       "  ('War', 25),\n",
       "  ('Music', 22),\n",
       "  ('History', 19),\n",
       "  ('Western', 5),\n",
       "  ('Documentary', 1),\n",
       "  ('Foreign', 1)],)"
      ]
     },
     "metadata": {},
     "output_type": "display_data"
    },
    {
     "data": {
      "text/plain": [
       "[('Drama', 283),\n",
       " ('Comedy', 252),\n",
       " ('Action', 225),\n",
       " ('Thriller', 206),\n",
       " ('Adventure', 164),\n",
       " ('Romance', 122),\n",
       " ('Science Fiction', 109),\n",
       " ('Crime', 107),\n",
       " ('Family', 94),\n",
       " ('Fantasy', 84),\n",
       " ('Mystery', 66),\n",
       " ('Horror', 55),\n",
       " ('Animation', 49),\n",
       " ('War', 25),\n",
       " ('Music', 22),\n",
       " ('History', 19),\n",
       " ('Western', 5),\n",
       " ('Documentary', 1),\n",
       " ('Foreign', 1)]"
      ]
     },
     "execution_count": 30,
     "metadata": {},
     "output_type": "execute_result"
    }
   ],
   "source": [
    "# копируем исходные данные\n",
    "data2=data.copy()\n",
    "\n",
    "# разделяем жанры по разделителю '|' и разбиваем на отдельные строчки\n",
    "data2['genres'] = data2.genres.str.split('|').explode('genres')\n",
    "\n",
    "# берем только столбец с жанрами\n",
    "df=data2['genres']\n",
    "\n",
    "# объявим новую переменную для создания списка вхождений жанров\n",
    "# и используя функцию Counter посчитаем это число вхождений.\n",
    "# most_common() - сделает сортировку по убыванию.\n",
    "res=Counter(df).most_common(),\n",
    "\n",
    "# выведем на экран получившийся список для проверки решения с другими вариантами\n",
    "display(res)\n",
    "\n",
    "# нашим ответом будет первая строка списка\n",
    "res[0]"
   ]
  },
  {
   "cell_type": "markdown",
   "metadata": {
    "colab_type": "text",
    "id": "T9_bPWpkVp_Q"
   },
   "source": [
    "# 12. Фильмы какого жанра чаще всего становятся прибыльными? "
   ]
  },
  {
   "cell_type": "code",
   "execution_count": 31,
   "metadata": {
    "colab": {},
    "colab_type": "code",
    "id": "Tmt8MaK1Vp_R"
   },
   "outputs": [
    {
     "data": {
      "text/plain": [
       "'Documentary'"
      ]
     },
     "metadata": {},
     "output_type": "display_data"
    }
   ],
   "source": [
    "# В этом блоке задача решена в соответствии с постановкой.\n",
    "# в следующем, то что подразумевалось надо сделать\n",
    "\n",
    "# копируем исходные данные\n",
    "data2=data.copy()\n",
    "# разделяем столбец Жанры для подсчета\n",
    "data2['genres'] = data2.genres.str.split('|')\n",
    "df=data2.explode('genres')\n",
    "\n",
    "# считаем общее количество фильмов по жанрам, сколько было прибыльных и сколько убыточных\n",
    "number_total=df.groupby(['genres'])['profit'].count().sort_values(ascending=False)\n",
    "number_profit=df[(df.profit>0)].groupby(['genres'])['profit'].count().sort_values(ascending=False)\n",
    "number_loss=df[(df.profit<0)].groupby(['genres'])['profit'].count().sort_values(ascending=False)\n",
    "\n",
    "# объединяем 3 списка в один\n",
    "df2=pd.concat([number_total,number_profit,number_loss],axis=1)\n",
    "# переименовываем названия столбцов для удобства\n",
    "df2.columns=['total','profit','loss']\n",
    "# заменяем значения NaN на 0\n",
    "df2=df2.fillna(0)\n",
    "\n",
    "# считаем частоту прибыльности жанров\n",
    "df2['freq_prof']=(df2['total']-df2['loss'])/df2['total']\n",
    "\n",
    "# получаем сортированный список\n",
    "df3=df2.sort_values('freq_prof',ascending=False)\n",
    "\n",
    "# и первая запись и есть искомое\n",
    "answer=df3['freq_prof'].index[0]\n",
    "\n",
    "# выводим финальный результат на экран\n",
    "display(answer)\n",
    "\n",
    "# записываем наш ответ в словарь ответов\n",
    "answers[12] = answer"
   ]
  },
  {
   "cell_type": "code",
   "execution_count": 32,
   "metadata": {},
   "outputs": [
    {
     "data": {
      "text/plain": [
       "'Drama'"
      ]
     },
     "metadata": {},
     "output_type": "display_data"
    }
   ],
   "source": [
    "# после уточнения задачи в slaсk, задача была \"чуть-чуть\" изменена...надо сделать следующее:\n",
    "\n",
    "# Нужно сделать фильтрацию фильмов по прибыли > 0, \n",
    "# и затем просто посчитать какой жанр встречается чаще среди полученного датасета\n",
    "\n",
    "# копируем исходные данные, сразу с фильтрацией по прибыли\n",
    "data2=data[(data.profit>0)].copy()\n",
    "\n",
    "# разделяем столбец Жанры для подсчета\n",
    "data2['genres'] = data2.genres.str.split('|')\n",
    "df=data2.explode('genres')\n",
    "\n",
    "# группируем по жанрам, считаем число фильмов по жанрам и сортируем по убыванию\n",
    "df2=df.groupby(['genres'])['revenue'].count().sort_values(ascending=False)\n",
    "\n",
    "# наш ответ будет в верхней строке\n",
    "answer=df2.index[0]\n",
    "\n",
    "# выводим финальный результат на экран\n",
    "display(answer)\n",
    "\n",
    "# записываем наш ответ в словарь ответов\n",
    "answers[12] = answer"
   ]
  },
  {
   "cell_type": "markdown",
   "metadata": {
    "colab_type": "text",
    "id": "0F23bgsDVp_U"
   },
   "source": [
    "# 13. У какого режиссера самые большие суммарные кассовые сборы?"
   ]
  },
  {
   "cell_type": "code",
   "execution_count": 33,
   "metadata": {},
   "outputs": [
    {
     "data": {
      "text/plain": [
       "'Peter Jackson'"
      ]
     },
     "metadata": {},
     "output_type": "display_data"
    }
   ],
   "source": [
    "# копируем исходные данные\n",
    "data2=data.copy()\n",
    "\n",
    "# разделяем столбец Режисер для подсчета\n",
    "data2['director'] = data2.director.str.split('|')\n",
    "df=data2.explode('director')\n",
    "\n",
    "# группируем по режисерам, суммируем по выручке, сортируем по убыванию. Первая строка - наш ответ.\n",
    "answer=df.groupby(['director'])['revenue'].sum().sort_values(ascending=False).index[0]\n",
    "\n",
    "# выводим финальный результат на экран\n",
    "display(answer)\n",
    "\n",
    "# записываем наш ответ в словарь ответов\n",
    "answers[13] = answer"
   ]
  },
  {
   "cell_type": "markdown",
   "metadata": {
    "colab_type": "text",
    "id": "PsYC9FgRVp_a"
   },
   "source": [
    "# 14. Какой режисер снял больше всего фильмов в стиле Action?"
   ]
  },
  {
   "cell_type": "code",
   "execution_count": 34,
   "metadata": {},
   "outputs": [
    {
     "data": {
      "text/plain": [
       "'Robert Rodriguez'"
      ]
     },
     "metadata": {},
     "output_type": "display_data"
    }
   ],
   "source": [
    "# копируем исходные данные\n",
    "data2=data.copy()\n",
    "\n",
    "# разделяем столбец Жанры для подсчета\n",
    "data2['genres'] = data2.genres.str.split('|')\n",
    "df=data2.explode('genres')\n",
    "\n",
    "# оставляем только интересующий нас жанр\n",
    "df=df[(df.genres=='Action')]\n",
    "\n",
    "# разделяем режисеров для подсчета\n",
    "df['director'] = df.director.str.split('|')\n",
    "df2=df.explode('director')\n",
    "\n",
    "# группируем по директору, считаем количество снятых фильмов и сортируем список по убыванию количества фильмов\n",
    "df3=df2.groupby(['director'])['director'].count().sort_values(ascending=False)\n",
    "\n",
    "# ответом будет первый в списке\n",
    "answer=df3.index[0]\n",
    "\n",
    "# выводим финальный результат на экран\n",
    "display(answer)\n",
    "\n",
    "# записываем наш ответ в словарь ответов\n",
    "answers[14] = answer"
   ]
  },
  {
   "cell_type": "markdown",
   "metadata": {
    "colab_type": "text",
    "id": "PQ0KciD7Vp_f"
   },
   "source": [
    "# 15. Фильмы с каким актером принесли самые высокие кассовые сборы в 2012 году? "
   ]
  },
  {
   "cell_type": "code",
   "execution_count": 35,
   "metadata": {
    "colab": {},
    "colab_type": "code",
    "id": "aga62oeKVp_g"
   },
   "outputs": [
    {
     "data": {
      "text/plain": [
       "'Chris Hemsworth'"
      ]
     },
     "metadata": {},
     "output_type": "display_data"
    }
   ],
   "source": [
    "# копируем исходные данные с нужным нам годом\n",
    "data2=data[data.release_year==2012].copy()\n",
    "\n",
    "# разделяем столбец Актеры для подсчета\n",
    "data2['cast'] = data2.cast.str.split('|')\n",
    "df=data2.explode('cast')\n",
    "\n",
    "# группируем по актеру, считаем сумму кассовых сборов по всем фильмам \n",
    "# и сортируем по убыванию\n",
    "df2=df.groupby(['cast'])['revenue'].sum().sort_values(ascending=False)\n",
    "\n",
    "# ответом будет первый в списке\n",
    "answer=df2.index[0]\n",
    "\n",
    "# выводим финальный результат на экран\n",
    "display(answer)\n",
    "\n",
    "# записываем наш ответ в словарь ответов\n",
    "answers[15] = answer"
   ]
  },
  {
   "cell_type": "markdown",
   "metadata": {
    "colab_type": "text",
    "id": "mWHyyL7QVp_j"
   },
   "source": [
    "# 16. Какой актер снялся в большем количестве высокобюджетных фильмов?"
   ]
  },
  {
   "cell_type": "code",
   "execution_count": 36,
   "metadata": {
    "colab": {},
    "colab_type": "code",
    "id": "qQtmHKTFVp_k"
   },
   "outputs": [
    {
     "data": {
      "text/plain": [
       "'Matt Damon'"
      ]
     },
     "metadata": {},
     "output_type": "display_data"
    }
   ],
   "source": [
    "# Примечание: в фильмах, где бюджет выше среднего по данной выборке.\n",
    "\n",
    "# посчитаем размер среднего бюджета\n",
    "budget_mean=data.budget.mean()\n",
    "\n",
    "# копируем исходные данные только с выше или равным среднему бюджету\n",
    "data2=data[data.budget>=budget_mean].copy()\n",
    "\n",
    "# разделяем столбец Актеры для подсчета\n",
    "data2['cast'] = data2.cast.str.split('|')\n",
    "df=data2.explode('cast')\n",
    "\n",
    "# группируем по актеру, считаем количество строчек и сортируем список по убыванию \n",
    "df2=df.groupby(['cast'])['director'].count().sort_values(ascending=False)\n",
    "\n",
    "# ответом будет первый в списке\n",
    "answer=df2.index[0]\n",
    "\n",
    "# выводим финальный результат на экран\n",
    "display(answer)\n",
    "\n",
    "# записываем результат в словарь\n",
    "answers[16] = answer"
   ]
  },
  {
   "cell_type": "markdown",
   "metadata": {
    "colab_type": "text",
    "id": "NIh6AaW5Vp_n"
   },
   "source": [
    "# 17. В фильмах какого жанра больше всего снимался Nicolas Cage? "
   ]
  },
  {
   "cell_type": "code",
   "execution_count": 37,
   "metadata": {
    "colab": {},
    "colab_type": "code",
    "id": "H74SJDIBVp_n"
   },
   "outputs": [
    {
     "data": {
      "text/plain": [
       "'Action'"
      ]
     },
     "metadata": {},
     "output_type": "display_data"
    }
   ],
   "source": [
    "# сохраняем копию данных (сразу применяем фильтр по актеру)\n",
    "data2=data[data.cast.str.contains('Nicolas Cage')].copy()\n",
    "\n",
    "# разбиваем столбец жанр на строки\n",
    "data2['genres'] = data2.genres.str.split('|')\n",
    "df=data2.explode('genres')\n",
    "\n",
    "# группируем по жанрам, считаем число фильмов и сортируем по убыванию\n",
    "df2=df.groupby(['genres'])['revenue'].count().sort_values(ascending=False)\n",
    "\n",
    "# наш ответ будет в верхней строке\n",
    "answer=df2.index[0]\n",
    "\n",
    "# выводим финальный результат на экран\n",
    "display(answer)\n",
    "\n",
    "# записываем результат в словарь\n",
    "answers[17] = answer"
   ]
  },
  {
   "cell_type": "markdown",
   "metadata": {
    "colab_type": "text",
    "id": "RqOmPRfWVp_q"
   },
   "source": [
    "# 18. Самый убыточный фильм от Paramount Pictures"
   ]
  },
  {
   "cell_type": "code",
   "execution_count": 38,
   "metadata": {},
   "outputs": [
    {
     "data": {
      "text/plain": [
       "'K-19: The Widowmaker (tt0267626)'"
      ]
     },
     "metadata": {},
     "output_type": "display_data"
    }
   ],
   "source": [
    "# сохраняем копию данных (сразу применяем фильтр по киностудии) в новую переменную\n",
    "data2=data[data.production_companies.str.contains('Paramount Pictures')].copy()\n",
    "\n",
    "# сортируем список фильмов по фозрастанию прибыли\n",
    "data2=data2.sort_values('profit',ascending=True)\n",
    "\n",
    "# наш ответ будет в верхней строке\n",
    "answer=data2.title_with_id.iloc[0]\n",
    "\n",
    "# выводим финальный результат на экран\n",
    "display(answer)\n",
    "\n",
    "# записываем результат в словарь\n",
    "answers[18] = answer"
   ]
  },
  {
   "cell_type": "markdown",
   "metadata": {
    "colab_type": "text",
    "id": "vS8Ur6ddVp_u"
   },
   "source": [
    "# 19. Какой год стал самым успешным по суммарным кассовым сборам?"
   ]
  },
  {
   "cell_type": "code",
   "execution_count": 39,
   "metadata": {
    "colab": {},
    "colab_type": "code",
    "id": "Dnbt4GdIVp_v"
   },
   "outputs": [
    {
     "data": {
      "text/plain": [
       "2015"
      ]
     },
     "metadata": {},
     "output_type": "display_data"
    }
   ],
   "source": [
    "# копируем исходные данные\n",
    "data2=data.copy()\n",
    "\n",
    "# группируем по году выпуска фильма, считаем число фильмов и сортируем по убыванию\n",
    "df=data2.groupby(['release_year'])['revenue'].sum().sort_values(ascending=False)\n",
    "\n",
    "# наш ответ будет в верхней строке\n",
    "answer=df.index[0]\n",
    "\n",
    "# выводим финальный результат на экран\n",
    "display(answer)\n",
    "\n",
    "# записываем результат в словарь\n",
    "answers[19] = answer"
   ]
  },
  {
   "cell_type": "markdown",
   "metadata": {
    "colab_type": "text",
    "id": "JAzJh4QAVp_z"
   },
   "source": [
    "# 20. Какой самый прибыльный год для студии Warner Bros?"
   ]
  },
  {
   "cell_type": "code",
   "execution_count": 40,
   "metadata": {
    "colab": {},
    "colab_type": "code",
    "id": "wgVu02DEVp_0"
   },
   "outputs": [
    {
     "data": {
      "text/plain": [
       "2014"
      ]
     },
     "metadata": {},
     "output_type": "display_data"
    }
   ],
   "source": [
    "# сохраняем копию данных (сразу применяем фильтр по киностудии)\n",
    "data2=data[data.production_companies.str.contains('Warner Bros')].copy()\n",
    "\n",
    "# группируем по году выпуска фильма, считаем число фильмов и сортируем по убыванию\n",
    "df=data2.groupby(['release_year'])['profit'].sum().sort_values(ascending=False)\n",
    "\n",
    "# наш ответ будет в верхней строке\n",
    "answer=df.index[0]\n",
    "\n",
    "# выводим финальный результат на экран\n",
    "display(answer)\n",
    "\n",
    "# записываем результат в словарь\n",
    "answers[20] = answer"
   ]
  },
  {
   "cell_type": "markdown",
   "metadata": {
    "colab_type": "text",
    "id": "8Im1S2HRVp_4"
   },
   "source": [
    "# 21. В каком месяце за все годы суммарно вышло больше всего фильмов?"
   ]
  },
  {
   "cell_type": "code",
   "execution_count": 41,
   "metadata": {
    "colab": {},
    "colab_type": "code",
    "id": "lev6TH7gVp_4"
   },
   "outputs": [
    {
     "data": {
      "text/plain": [
       "'Сентябрь'"
      ]
     },
     "metadata": {},
     "output_type": "display_data"
    }
   ],
   "source": [
    "# группируем по году выпуска фильма, считаем число фильмов и сортируем по убыванию\n",
    "df=data.groupby(['release_month'])['profit'].count().sort_values(ascending=False)\n",
    "\n",
    "# наш ответ будет в верхней строке\n",
    "answer=df.index[0]\n",
    "\n",
    "# выводим финальный результат на экран\n",
    "display(answer)\n",
    "\n",
    "# записываем результат в словарь\n",
    "answers[21] = answer"
   ]
  },
  {
   "cell_type": "markdown",
   "metadata": {
    "colab_type": "text",
    "id": "uAJsZ_NeVp_7"
   },
   "source": [
    "# 22. Сколько суммарно вышло фильмов летом? (за июнь, июль, август)"
   ]
  },
  {
   "cell_type": "code",
   "execution_count": 42,
   "metadata": {
    "colab": {},
    "colab_type": "code",
    "id": "Aa-hEREoVp_8"
   },
   "outputs": [
    {
     "data": {
      "text/plain": [
       "450"
      ]
     },
     "metadata": {},
     "output_type": "display_data"
    }
   ],
   "source": [
    "# сохраняем копию данных (сразу применяем фильтр по сезону) в новую переменную\n",
    "data2=data[data.release_season=='Лето'].copy()\n",
    "\n",
    "# группируем по сезону выпуска фильма и считаем число фильмов\n",
    "df=data2.groupby(['release_season'])['profit'].count()\n",
    "\n",
    "# наш ответ будет в верхней строке\n",
    "answer=df.iloc[0]\n",
    "\n",
    "# выводим финальный результат на экран\n",
    "display(answer)\n",
    "\n",
    "# записываем результат в словарь\n",
    "answers[22] = answer"
   ]
  },
  {
   "cell_type": "markdown",
   "metadata": {
    "colab_type": "text",
    "id": "G94ppOY1VqAA"
   },
   "source": [
    "# 23. Для какого режиссера зима – самое продуктивное время года? "
   ]
  },
  {
   "cell_type": "code",
   "execution_count": 43,
   "metadata": {
    "colab": {},
    "colab_type": "code",
    "id": "RhNTsamuVqAB"
   },
   "outputs": [
    {
     "data": {
      "text/plain": [
       "'Peter Jackson'"
      ]
     },
     "metadata": {},
     "output_type": "display_data"
    }
   ],
   "source": [
    "# сохраняем копию данных (сразу применяем фильтр по сезону)\n",
    "data2=data[data.release_season=='Зима'].copy()\n",
    "\n",
    "# разделяем режисеров для подсчета\n",
    "df['director'] = data2.director.str.split('|')\n",
    "df=data2.explode('director')\n",
    "\n",
    "# группируем по директору, считаем количество снятых фильмов и сортируем список по убыванию количества фильмов\n",
    "df2=df.groupby(['director'])['director'].count().sort_values(ascending=False)\n",
    "\n",
    "# ответом будет первый в списке\n",
    "answer=df2.index[0]\n",
    "\n",
    "# выводим финальный результат на экран\n",
    "display(answer)\n",
    "\n",
    "# записываем результат в словарь\n",
    "answers[23] = answer"
   ]
  },
  {
   "cell_type": "markdown",
   "metadata": {
    "colab_type": "text",
    "id": "RBo0JVjVVqAF"
   },
   "source": [
    "# 24. Какая студия дает самые длинные названия своим фильмам по количеству символов?"
   ]
  },
  {
   "cell_type": "code",
   "execution_count": 44,
   "metadata": {
    "colab": {},
    "colab_type": "code",
    "id": "QRGS8L0iVqAG"
   },
   "outputs": [
    {
     "data": {
      "text/plain": [
       "'Four By Two Productions'"
      ]
     },
     "metadata": {},
     "output_type": "display_data"
    }
   ],
   "source": [
    "# сохраняем копию данных в новую переменную\n",
    "data2=data.copy()\n",
    "\n",
    "# разделяем столбец Киностудии для подсчета\n",
    "data2['production_companies'] = data2.production_companies.str.split('|')\n",
    "df=data2.explode('production_companies')\n",
    "\n",
    "# группируем по киностудии, считаем среднюю длину названий фильмов и сортируем список по убыванию \n",
    "df2=df.groupby(['production_companies'])['movies_name_len'].mean().sort_values(ascending=False)\n",
    "#display(df2)\n",
    "\n",
    "# ответом будет первый в списке\n",
    "answer=df2.index[0]\n",
    "\n",
    "# выводим финальный результат на экран\n",
    "display(answer)\n",
    "\n",
    "# записываем результат в словарь\n",
    "answers[24] = answer"
   ]
  },
  {
   "cell_type": "markdown",
   "metadata": {
    "colab_type": "text",
    "id": "9G0hbvR7VqAK"
   },
   "source": [
    "# 25. Описание фильмов какой студии в среднем самые длинные по количеству слов?"
   ]
  },
  {
   "cell_type": "code",
   "execution_count": 45,
   "metadata": {
    "colab": {},
    "colab_type": "code",
    "id": "Ge2GsLNxVqAK"
   },
   "outputs": [
    {
     "data": {
      "text/plain": [
       "'Midnight Picture Show'"
      ]
     },
     "metadata": {},
     "output_type": "display_data"
    }
   ],
   "source": [
    "# сохраняем копию данных в новую переменную\n",
    "data2=data.copy()\n",
    "data2['overview_len']=data2['overview'].apply(len)\n",
    "\n",
    "# разделяем столбец Киностудии для подсчета\n",
    "data2['production_companies'] = data2.production_companies.str.split('|')\n",
    "df=data2.explode('production_companies')\n",
    "\n",
    "# группируем по киностудии, считаем среднюю длину названий фильмов и сортируем список по убыванию \n",
    "df2=df.groupby(['production_companies'])['overview_len'].mean().sort_values(ascending=False)\n",
    "#display(df2)\n",
    "\n",
    "# ответом будет первый в списке\n",
    "answer=df2.index[0]\n",
    "\n",
    "# выводим финальный результат на экран\n",
    "display(answer)\n",
    "\n",
    "# записываем результат в словарь\n",
    "answers[25] = answer"
   ]
  },
  {
   "cell_type": "markdown",
   "metadata": {
    "colab_type": "text",
    "id": "FJ1AFt90VqAP"
   },
   "source": [
    "# 26. Какие фильмы входят в 1 процент лучших по рейтингу? \n",
    "по vote_average"
   ]
  },
  {
   "cell_type": "code",
   "execution_count": 46,
   "metadata": {},
   "outputs": [
    {
     "data": {
      "text/plain": [
       "9                                          Inside Out\n",
       "34                                               Room\n",
       "118                                      Interstellar\n",
       "119                           Guardians of the Galaxy\n",
       "125                                The Imitation Game\n",
       "128                                         Gone Girl\n",
       "138                          The Grand Budapest Hotel\n",
       "370                                         Inception\n",
       "599                                   The Dark Knight\n",
       "872                                       The Pianist\n",
       "1081    The Lord of the Rings: The Return of the King\n",
       "1183                          The Wolf of Wall Street\n",
       "1191                                 12 Years a Slave\n",
       "1800                                          Memento\n",
       "Name: original_title, dtype: object"
      ]
     },
     "metadata": {},
     "output_type": "display_data"
    }
   ],
   "source": [
    "# фильтруем фильмы по рейтингу через квартиль, и выводим один столбец\n",
    "answer=data[data['vote_average']>data['vote_average'].quantile(q=0.99)].original_title\n",
    "\n",
    "# выводим финальный результат на экран \n",
    "display(answer)\n",
    "\n",
    "# записываем результат в словарь\n",
    "answers[26] = 'Inside Out, The Dark Knight, 12 Years a Slave'"
   ]
  },
  {
   "cell_type": "markdown",
   "metadata": {
    "colab_type": "text",
    "id": "MdXsUXbCVqAV"
   },
   "source": [
    "# 27. Какие актеры чаще всего снимаются в одном фильме вместе?\n"
   ]
  },
  {
   "cell_type": "code",
   "execution_count": 52,
   "metadata": {},
   "outputs": [
    {
     "data": {
      "text/plain": [
       "(Daniel Radcliffe, Emma Watson)         8\n",
       "(Daniel Radcliffe, Rupert Grint)        8\n",
       "(Rupert Grint, Emma Watson)             7\n",
       "(Johnny Depp, Helena Bonham Carter)     6\n",
       "(Ben Stiller, Owen Wilson)              6\n",
       "                                       ..\n",
       "(Kurt Russell, Ving Rhames)             1\n",
       "(Steve Carell, Olivia Wilde)            1\n",
       "(Jean Dujardin, Penelope Ann Miller)    1\n",
       "(Brendan Fraser, Timothy Dalton)        1\n",
       "(Sandra Bullock, Scoot McNairy)         1\n",
       "Name: cast, Length: 18121, dtype: int64"
      ]
     },
     "metadata": {},
     "output_type": "display_data"
    }
   ],
   "source": [
    "# копируем исходные данные\n",
    "df = data.copy()\n",
    "\n",
    "# разбиваем столбец Актеры по разделителю '|'\n",
    "df['cast'] = df.cast.str.split('|')\n",
    "\n",
    "# для каждой строки расчитываем пары, через собственную функцию comb \n",
    "# и записываем список пар актеров на место списка актеров\n",
    "df['cast']=df.cast.apply(comb)\n",
    "\n",
    "# разбиваем список пар на отдельные строчки\n",
    "df1 = df.explode('cast')\n",
    "\n",
    "# выводим список пар актеров отсортированных по убыванию количества фильмов\n",
    "display(df1.cast.value_counts().sort_values(ascending=False))\n",
    "\n",
    "# запысываем результат в словарь\n",
    "answers[27] = 'Daniel Radcliffe, Rupert Grint'"
   ]
  },
  {
   "cell_type": "markdown",
   "metadata": {
    "colab_type": "text",
    "id": "4ymnxEVoVqAW"
   },
   "source": [
    "ВАРИАНТ 2"
   ]
  },
  {
   "cell_type": "code",
   "execution_count": 58,
   "metadata": {},
   "outputs": [
    {
     "data": {
      "text/plain": [
       "(Daniel Radcliffe, Emma Watson)          8\n",
       "(Daniel Radcliffe, Rupert Grint)         8\n",
       "(Emma Watson, Rupert Grint)              8\n",
       "(Helena Bonham Carter, Johnny Depp)      6\n",
       "(Ben Stiller, Owen Wilson)               6\n",
       "                                        ..\n",
       "(Catherine Zeta-Jones, Nick Chinlund)    1\n",
       "(Alexandra Daddario, Marilyn Burns)      1\n",
       "(Amy Poehler, Sigourney Weaver)          1\n",
       "(Bruce McGill, Orlando Bloom)            1\n",
       "(Laurie Holden, Sean Bean)               1\n",
       "Name: cast, Length: 17943, dtype: int64"
      ]
     },
     "metadata": {},
     "output_type": "display_data"
    }
   ],
   "source": [
    "# копируем исходные данные\n",
    "df = data.copy()\n",
    "\n",
    "# разбиваем столбец Актеры по разделителю '|'\n",
    "df['cast'] = df.cast.str.split('|')\n",
    "\n",
    "# для каждой строки расчитываем пары, через собственную функцию comb \n",
    "# и записываем список пар актеров на место списка актеров\n",
    "# здесь я использую модифицированную функцию, в которой сортирую \n",
    "# по алфавиту актеров до составления комбинаций\n",
    "df['cast']=df.cast.apply(comb_v3)\n",
    "\n",
    "# разбиваем список пар на отдельные строчки\n",
    "df1 = df.explode('cast')\n",
    "\n",
    "# выводим список пар актеров отсортированных по убыванию количества фильмов\n",
    "display(df1.cast.value_counts().sort_values(ascending=False))\n",
    "\n",
    "# записываем результат в словарь\n",
    "answers[27] = 'Daniel Radcliffe, Rupert Grint'"
   ]
  },
  {
   "cell_type": "markdown",
   "metadata": {
    "colab_type": "text",
    "id": "U0nONFnGVqAX"
   },
   "source": [
    "# Submission"
   ]
  },
  {
   "cell_type": "code",
   "execution_count": 59,
   "metadata": {
    "colab": {},
    "colab_type": "code",
    "id": "IfcaRO9-VqAX",
    "outputId": "0f132912-32bb-4196-c98c-abfbc4ad5a5f",
    "scrolled": true
   },
   "outputs": [
    {
     "data": {
      "text/plain": [
       "{1: ' Pirates of the Caribbean: On Stranger Tides (t...',\n",
       " 2: ' Gods and Generals (tt0279111)',\n",
       " 3: ' Winnie the Pooh (tt1449283)',\n",
       " 4: 110.0,\n",
       " 5: 107.0,\n",
       " 6: ' Avatar (tt0499549)',\n",
       " 7: ' The Lone Ranger (tt1210819)',\n",
       " 8: 1478,\n",
       " 9: ' The Dark Knight (tt0468569)',\n",
       " 10: ' The Lone Ranger (tt1210819)',\n",
       " 11: 'Drama',\n",
       " 12: 'Drama',\n",
       " 13: 'Peter Jackson',\n",
       " 14: 'Robert Rodriguez',\n",
       " 15: 'Chris Hemsworth',\n",
       " 16: 'Matt Damon',\n",
       " 17: 'Action',\n",
       " 18: 'K-19: The Widowmaker (tt0267626)',\n",
       " 19: 2015,\n",
       " 20: 2014,\n",
       " 21: 'Сентябрь',\n",
       " 22: 450,\n",
       " 23: 'Peter Jackson',\n",
       " 24: 'Four By Two Productions',\n",
       " 25: 'Midnight Picture Show',\n",
       " 26: 'Inside Out, The Dark Knight, 12 Years a Slave',\n",
       " 27: 'Daniel Radcliffe, Rupert Grint'}"
      ]
     },
     "execution_count": 59,
     "metadata": {},
     "output_type": "execute_result"
    }
   ],
   "source": [
    "# в конце можно посмотреть свои ответы к каждому вопросу\n",
    "answers"
   ]
  },
  {
   "cell_type": "code",
   "execution_count": 60,
   "metadata": {},
   "outputs": [
    {
     "data": {
      "text/plain": [
       "{1: [' Pirates of the Caribbean: On Stranger Tides (t...', '+'],\n",
       " 2: [' Gods and Generals (tt0279111)', '+'],\n",
       " 3: [' Winnie the Pooh (tt1449283)', '+'],\n",
       " 4: [110.0, '+'],\n",
       " 5: [107.0, '+'],\n",
       " 6: [' Avatar (tt0499549)', '+'],\n",
       " 7: [' The Lone Ranger (tt1210819)', '+'],\n",
       " 8: [1478, '+'],\n",
       " 9: [' The Dark Knight (tt0468569)', '+'],\n",
       " 10: [' The Lone Ranger (tt1210819)', '+'],\n",
       " 11: ['Drama', '+'],\n",
       " 12: ['Drama', '+'],\n",
       " 13: ['Peter Jackson', '+'],\n",
       " 14: ['Robert Rodriguez', '+'],\n",
       " 15: ['Chris Hemsworth', '+'],\n",
       " 16: ['Matt Damon', '+'],\n",
       " 17: ['Action', '+'],\n",
       " 18: ['K-19: The Widowmaker (tt0267626)', '+'],\n",
       " 19: [2015, '+'],\n",
       " 20: [2014, '+'],\n",
       " 21: ['Сентябрь', '+'],\n",
       " 22: [450, '+'],\n",
       " 23: ['Peter Jackson', '+'],\n",
       " 24: ['Four By Two Productions', '+'],\n",
       " 25: ['Midnight Picture Show', '+'],\n",
       " 26: ['Inside Out, The Dark Knight, 12 Years a Slave', '+'],\n",
       " 27: ['Daniel Radcliffe, Rupert Grint', '+']}"
      ]
     },
     "execution_count": 60,
     "metadata": {},
     "output_type": "execute_result"
    }
   ],
   "source": [
    "# добавляем в словарь ответов \"+\" при получении правильного ответа\n",
    "\n",
    "# копируем исходный словарь ответов\n",
    "answers2=answers.copy()\n",
    "\n",
    "# пробегаемся циклом и добавляем \"+\" во все, тк я правильно решил все поставленные задачи :))))\n",
    "for i in range(1,28):\n",
    "    answers2[i]=[answers2[i],'+']\n",
    "    \n",
    "# выводим новый список на экран\n",
    "answers2"
   ]
  },
  {
   "cell_type": "code",
   "execution_count": 61,
   "metadata": {
    "colab": {},
    "colab_type": "code",
    "id": "SiRmHPl8VqAd"
   },
   "outputs": [
    {
     "data": {
      "text/plain": [
       "27"
      ]
     },
     "metadata": {},
     "output_type": "display_data"
    },
    {
     "data": {
      "text/plain": [
       "27"
      ]
     },
     "metadata": {},
     "output_type": "display_data"
    }
   ],
   "source": [
    "# и убедиться что ни чего не пропустил)\n",
    "display(len(answers))\n",
    "display(len(answers2))"
   ]
  },
  {
   "cell_type": "code",
   "execution_count": 0,
   "metadata": {
    "colab": {},
    "colab_type": "code",
    "id": "uCfuTkRbVqAg"
   },
   "outputs": [],
   "source": []
  },
  {
   "cell_type": "code",
   "execution_count": 0,
   "metadata": {
    "colab": {},
    "colab_type": "code",
    "id": "Vwx3NrkSVqAl"
   },
   "outputs": [],
   "source": []
  }
 ],
 "metadata": {
  "colab": {
   "name": "Copy of [SF-DST] Movies IMBD v4.1 TEMPLATE.ipynb",
   "provenance": []
  },
  "kernelspec": {
   "display_name": "Python 3",
   "language": "python",
   "name": "python3"
  },
  "language_info": {
   "codemirror_mode": {
    "name": "ipython",
    "version": 3
   },
   "file_extension": ".py",
   "mimetype": "text/x-python",
   "name": "python",
   "nbconvert_exporter": "python",
   "pygments_lexer": "ipython3",
   "version": "3.8.5"
  }
 },
 "nbformat": 4,
 "nbformat_minor": 1
}
